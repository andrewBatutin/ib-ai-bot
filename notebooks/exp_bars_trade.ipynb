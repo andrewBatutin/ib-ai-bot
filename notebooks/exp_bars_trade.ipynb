{
 "cells": [
  {
   "cell_type": "code",
   "id": "initial_id",
   "metadata": {
    "collapsed": true,
    "ExecuteTime": {
     "end_time": "2025-04-26T16:39:46.766934Z",
     "start_time": "2025-04-26T16:39:46.760303Z"
    }
   },
   "source": [
    "import pandas as pd\n",
    "import yfinance as yf\n",
    "from webapp.fincalc.portfolio_analytics import calculate_stock_volatility, check_volatility_signal\n",
    "import numpy as np\n",
    "import matplotlib.ticker as mticker # For formatting y-axis as percentage\n",
    "import numpy\n",
    "import matplotlib.pyplot as plt\n",
    "from matplotlib.patches import Rectangle\n",
    "import matplotlib.dates as mdates\n",
    "from mlfinpy.data_structure import standard_bars\n",
    "from mlfinpy.data_structure import get_time_bars, get_volume_bars, get_dollar_bars, get_tick_bars\n",
    "from backtester.utils import calculate_volume_bar_threshold\n"
   ],
   "outputs": [],
   "execution_count": 19
  },
  {
   "metadata": {
    "ExecuteTime": {
     "end_time": "2025-04-26T16:39:47.412967Z",
     "start_time": "2025-04-26T16:39:47.249291Z"
    }
   },
   "cell_type": "code",
   "source": [
    "tickets = [\"IONQ\", \"QUBT\", \"RGTI\", \"QMCO\"]\n",
    "ionq_tk = tickets[0]\n",
    "data_raw = yf.download(ionq_tk, period=\"30d\", interval=\"1h\", progress=False, prepost=True)\n",
    "data_single_ticker = data_raw.xs(ionq_tk, level=1, axis=1).copy()\n",
    "data_single_ticker"
   ],
   "id": "25732ddd119d94d2",
   "outputs": [
    {
     "data": {
      "text/plain": [
       "Price                      Close       High        Low     Open   Volume\n",
       "Datetime                                                                \n",
       "2025-03-14 08:00:00+00:00  22.05  22.110000  21.570000  22.0000        0\n",
       "2025-03-14 09:00:00+00:00  22.05  22.140000  21.910000  22.0600        0\n",
       "2025-03-14 10:00:00+00:00  21.64  22.060000  21.560000  22.0500        0\n",
       "2025-03-14 11:00:00+00:00  21.90  21.990000  21.580000  21.6400        0\n",
       "2025-03-14 12:00:00+00:00  22.32  22.420000  21.590000  21.9300        0\n",
       "...                          ...        ...        ...      ...      ...\n",
       "2025-04-25 19:30:00+00:00  28.92  28.959999  28.610001  28.6709  1322050\n",
       "2025-04-25 20:00:00+00:00  28.62  28.970000  28.600000  28.9000        0\n",
       "2025-04-25 21:00:00+00:00  28.72  28.790000  28.600000  28.6003        0\n",
       "2025-04-25 22:00:00+00:00  28.62  28.800000  28.620000  28.7300        0\n",
       "2025-04-25 23:00:00+00:00  28.65  28.710000  28.630000  28.6400        0\n",
       "\n",
       "[510 rows x 5 columns]"
      ],
      "text/html": [
       "<div>\n",
       "<style scoped>\n",
       "    .dataframe tbody tr th:only-of-type {\n",
       "        vertical-align: middle;\n",
       "    }\n",
       "\n",
       "    .dataframe tbody tr th {\n",
       "        vertical-align: top;\n",
       "    }\n",
       "\n",
       "    .dataframe thead th {\n",
       "        text-align: right;\n",
       "    }\n",
       "</style>\n",
       "<table border=\"1\" class=\"dataframe\">\n",
       "  <thead>\n",
       "    <tr style=\"text-align: right;\">\n",
       "      <th>Price</th>\n",
       "      <th>Close</th>\n",
       "      <th>High</th>\n",
       "      <th>Low</th>\n",
       "      <th>Open</th>\n",
       "      <th>Volume</th>\n",
       "    </tr>\n",
       "    <tr>\n",
       "      <th>Datetime</th>\n",
       "      <th></th>\n",
       "      <th></th>\n",
       "      <th></th>\n",
       "      <th></th>\n",
       "      <th></th>\n",
       "    </tr>\n",
       "  </thead>\n",
       "  <tbody>\n",
       "    <tr>\n",
       "      <th>2025-03-14 08:00:00+00:00</th>\n",
       "      <td>22.05</td>\n",
       "      <td>22.110000</td>\n",
       "      <td>21.570000</td>\n",
       "      <td>22.0000</td>\n",
       "      <td>0</td>\n",
       "    </tr>\n",
       "    <tr>\n",
       "      <th>2025-03-14 09:00:00+00:00</th>\n",
       "      <td>22.05</td>\n",
       "      <td>22.140000</td>\n",
       "      <td>21.910000</td>\n",
       "      <td>22.0600</td>\n",
       "      <td>0</td>\n",
       "    </tr>\n",
       "    <tr>\n",
       "      <th>2025-03-14 10:00:00+00:00</th>\n",
       "      <td>21.64</td>\n",
       "      <td>22.060000</td>\n",
       "      <td>21.560000</td>\n",
       "      <td>22.0500</td>\n",
       "      <td>0</td>\n",
       "    </tr>\n",
       "    <tr>\n",
       "      <th>2025-03-14 11:00:00+00:00</th>\n",
       "      <td>21.90</td>\n",
       "      <td>21.990000</td>\n",
       "      <td>21.580000</td>\n",
       "      <td>21.6400</td>\n",
       "      <td>0</td>\n",
       "    </tr>\n",
       "    <tr>\n",
       "      <th>2025-03-14 12:00:00+00:00</th>\n",
       "      <td>22.32</td>\n",
       "      <td>22.420000</td>\n",
       "      <td>21.590000</td>\n",
       "      <td>21.9300</td>\n",
       "      <td>0</td>\n",
       "    </tr>\n",
       "    <tr>\n",
       "      <th>...</th>\n",
       "      <td>...</td>\n",
       "      <td>...</td>\n",
       "      <td>...</td>\n",
       "      <td>...</td>\n",
       "      <td>...</td>\n",
       "    </tr>\n",
       "    <tr>\n",
       "      <th>2025-04-25 19:30:00+00:00</th>\n",
       "      <td>28.92</td>\n",
       "      <td>28.959999</td>\n",
       "      <td>28.610001</td>\n",
       "      <td>28.6709</td>\n",
       "      <td>1322050</td>\n",
       "    </tr>\n",
       "    <tr>\n",
       "      <th>2025-04-25 20:00:00+00:00</th>\n",
       "      <td>28.62</td>\n",
       "      <td>28.970000</td>\n",
       "      <td>28.600000</td>\n",
       "      <td>28.9000</td>\n",
       "      <td>0</td>\n",
       "    </tr>\n",
       "    <tr>\n",
       "      <th>2025-04-25 21:00:00+00:00</th>\n",
       "      <td>28.72</td>\n",
       "      <td>28.790000</td>\n",
       "      <td>28.600000</td>\n",
       "      <td>28.6003</td>\n",
       "      <td>0</td>\n",
       "    </tr>\n",
       "    <tr>\n",
       "      <th>2025-04-25 22:00:00+00:00</th>\n",
       "      <td>28.62</td>\n",
       "      <td>28.800000</td>\n",
       "      <td>28.620000</td>\n",
       "      <td>28.7300</td>\n",
       "      <td>0</td>\n",
       "    </tr>\n",
       "    <tr>\n",
       "      <th>2025-04-25 23:00:00+00:00</th>\n",
       "      <td>28.65</td>\n",
       "      <td>28.710000</td>\n",
       "      <td>28.630000</td>\n",
       "      <td>28.6400</td>\n",
       "      <td>0</td>\n",
       "    </tr>\n",
       "  </tbody>\n",
       "</table>\n",
       "<p>510 rows × 5 columns</p>\n",
       "</div>"
      ]
     },
     "execution_count": 20,
     "metadata": {},
     "output_type": "execute_result"
    }
   ],
   "execution_count": 20
  },
  {
   "metadata": {
    "ExecuteTime": {
     "end_time": "2025-04-26T16:39:47.433517Z",
     "start_time": "2025-04-26T16:39:47.429792Z"
    }
   },
   "cell_type": "code",
   "source": [
    "data_ml = data_single_ticker[['Close', 'Volume']].copy()\n",
    "data_ml.rename(columns={'Datetime':'date','Close': 'Price', 'Volume': 'Volume'}, inplace=True)\n",
    "\n",
    "\n",
    "data_ml"
   ],
   "id": "c4de1fd55b3d0b16",
   "outputs": [
    {
     "data": {
      "text/plain": [
       "Price                      Price   Volume\n",
       "Datetime                                 \n",
       "2025-03-14 08:00:00+00:00  22.05        0\n",
       "2025-03-14 09:00:00+00:00  22.05        0\n",
       "2025-03-14 10:00:00+00:00  21.64        0\n",
       "2025-03-14 11:00:00+00:00  21.90        0\n",
       "2025-03-14 12:00:00+00:00  22.32        0\n",
       "...                          ...      ...\n",
       "2025-04-25 19:30:00+00:00  28.92  1322050\n",
       "2025-04-25 20:00:00+00:00  28.62        0\n",
       "2025-04-25 21:00:00+00:00  28.72        0\n",
       "2025-04-25 22:00:00+00:00  28.62        0\n",
       "2025-04-25 23:00:00+00:00  28.65        0\n",
       "\n",
       "[510 rows x 2 columns]"
      ],
      "text/html": [
       "<div>\n",
       "<style scoped>\n",
       "    .dataframe tbody tr th:only-of-type {\n",
       "        vertical-align: middle;\n",
       "    }\n",
       "\n",
       "    .dataframe tbody tr th {\n",
       "        vertical-align: top;\n",
       "    }\n",
       "\n",
       "    .dataframe thead th {\n",
       "        text-align: right;\n",
       "    }\n",
       "</style>\n",
       "<table border=\"1\" class=\"dataframe\">\n",
       "  <thead>\n",
       "    <tr style=\"text-align: right;\">\n",
       "      <th>Price</th>\n",
       "      <th>Price</th>\n",
       "      <th>Volume</th>\n",
       "    </tr>\n",
       "    <tr>\n",
       "      <th>Datetime</th>\n",
       "      <th></th>\n",
       "      <th></th>\n",
       "    </tr>\n",
       "  </thead>\n",
       "  <tbody>\n",
       "    <tr>\n",
       "      <th>2025-03-14 08:00:00+00:00</th>\n",
       "      <td>22.05</td>\n",
       "      <td>0</td>\n",
       "    </tr>\n",
       "    <tr>\n",
       "      <th>2025-03-14 09:00:00+00:00</th>\n",
       "      <td>22.05</td>\n",
       "      <td>0</td>\n",
       "    </tr>\n",
       "    <tr>\n",
       "      <th>2025-03-14 10:00:00+00:00</th>\n",
       "      <td>21.64</td>\n",
       "      <td>0</td>\n",
       "    </tr>\n",
       "    <tr>\n",
       "      <th>2025-03-14 11:00:00+00:00</th>\n",
       "      <td>21.90</td>\n",
       "      <td>0</td>\n",
       "    </tr>\n",
       "    <tr>\n",
       "      <th>2025-03-14 12:00:00+00:00</th>\n",
       "      <td>22.32</td>\n",
       "      <td>0</td>\n",
       "    </tr>\n",
       "    <tr>\n",
       "      <th>...</th>\n",
       "      <td>...</td>\n",
       "      <td>...</td>\n",
       "    </tr>\n",
       "    <tr>\n",
       "      <th>2025-04-25 19:30:00+00:00</th>\n",
       "      <td>28.92</td>\n",
       "      <td>1322050</td>\n",
       "    </tr>\n",
       "    <tr>\n",
       "      <th>2025-04-25 20:00:00+00:00</th>\n",
       "      <td>28.62</td>\n",
       "      <td>0</td>\n",
       "    </tr>\n",
       "    <tr>\n",
       "      <th>2025-04-25 21:00:00+00:00</th>\n",
       "      <td>28.72</td>\n",
       "      <td>0</td>\n",
       "    </tr>\n",
       "    <tr>\n",
       "      <th>2025-04-25 22:00:00+00:00</th>\n",
       "      <td>28.62</td>\n",
       "      <td>0</td>\n",
       "    </tr>\n",
       "    <tr>\n",
       "      <th>2025-04-25 23:00:00+00:00</th>\n",
       "      <td>28.65</td>\n",
       "      <td>0</td>\n",
       "    </tr>\n",
       "  </tbody>\n",
       "</table>\n",
       "<p>510 rows × 2 columns</p>\n",
       "</div>"
      ]
     },
     "execution_count": 21,
     "metadata": {},
     "output_type": "execute_result"
    }
   ],
   "execution_count": 21
  },
  {
   "metadata": {
    "ExecuteTime": {
     "end_time": "2025-04-26T16:39:47.602202Z",
     "start_time": "2025-04-26T16:39:47.599667Z"
    }
   },
   "cell_type": "code",
   "source": [
    "\n",
    "target_bars = 50\n",
    "calculate_volume_bar_threshold(data_ml, target_bars_per_day=target_bars)\n"
   ],
   "id": "244489875c49e4ce",
   "outputs": [
    {
     "name": "stdout",
     "output_type": "stream",
     "text": [
      "--- Threshold Calculation ---\n",
      "Number of Trading Days: 30\n",
      "Total Volume: 603,225,968\n",
      "Average Daily Volume: 20,107,532\n",
      "Target Bars Per Day: 50\n",
      "Estimated Volume Threshold: 402,151\n",
      "---------------------------\n"
     ]
    },
    {
     "data": {
      "text/plain": [
       "402150.6453333333"
      ]
     },
     "execution_count": 22,
     "metadata": {},
     "output_type": "execute_result"
    }
   ],
   "execution_count": 22
  },
  {
   "metadata": {
    "ExecuteTime": {
     "end_time": "2025-04-26T16:39:48.012273Z",
     "start_time": "2025-04-26T16:39:48.005229Z"
    }
   },
   "cell_type": "code",
   "source": [
    "from backtester.strategies import generate_bollinger_bands_signals\n",
    "\n",
    "volume_bars_df = get_volume_bars(data_ml,threshold=402150, verbose=False)\n",
    "volume_bar_closes = volume_bars_df['close']\n",
    "window_size = 10 # Number of volume bars\n",
    "num_std_dev = 0.5  # Number of standard deviations\n",
    "\n",
    "# Use the existing function from strategies.py\n",
    "signals = generate_bollinger_bands_signals(volume_bar_closes, window=window_size, num_std=num_std_dev)\n",
    "\n",
    "signals"
   ],
   "id": "3ddbea6128547687",
   "outputs": [
    {
     "data": {
      "text/plain": [
       "0      0\n",
       "1      0\n",
       "2      0\n",
       "3      0\n",
       "4      0\n",
       "      ..\n",
       "205    0\n",
       "206   -1\n",
       "207    0\n",
       "208    0\n",
       "209   -1\n",
       "Length: 210, dtype: int64"
      ]
     },
     "execution_count": 23,
     "metadata": {},
     "output_type": "execute_result"
    }
   ],
   "execution_count": 23
  },
  {
   "metadata": {
    "ExecuteTime": {
     "end_time": "2025-04-26T16:39:48.852255Z",
     "start_time": "2025-04-26T16:39:48.850776Z"
    }
   },
   "cell_type": "code",
   "source": "",
   "id": "97c8cc71b1adce5e",
   "outputs": [],
   "execution_count": null
  },
  {
   "metadata": {},
   "cell_type": "code",
   "outputs": [],
   "execution_count": null,
   "source": "",
   "id": "992810606f42fe36"
  }
 ],
 "metadata": {
  "kernelspec": {
   "display_name": "Python 3",
   "language": "python",
   "name": "python3"
  },
  "language_info": {
   "codemirror_mode": {
    "name": "ipython",
    "version": 2
   },
   "file_extension": ".py",
   "mimetype": "text/x-python",
   "name": "python",
   "nbconvert_exporter": "python",
   "pygments_lexer": "ipython2",
   "version": "2.7.6"
  }
 },
 "nbformat": 4,
 "nbformat_minor": 5
}
